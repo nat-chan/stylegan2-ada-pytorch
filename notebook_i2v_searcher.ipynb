{
 "cells": [
  {
   "cell_type": "code",
   "execution_count": null,
   "metadata": {},
   "outputs": [],
   "source": [
    "from pathlib import Path\n",
    "import os\n",
    "from ipynb.fs.full.notebook_viewer import Viewer\n",
    "from scipy.spatial import distance\n",
    "import numpy as np\n",
    "from tqdm import tqdm\n",
    "from PIL import Image"
   ]
  },
  {
   "cell_type": "code",
   "execution_count": null,
   "metadata": {},
   "outputs": [],
   "source": [
    "root = Path(\"/data/natsuki/training116/00030-v4-mirror-auto4-gamma100-batch64-noaug-resumecustom/011289\")\n",
    "assert root.is_dir()\n",
    "filelist = list(root.glob(\"*\"))\n",
    "filelist.sort()"
   ]
  },
  {
   "cell_type": "code",
   "execution_count": null,
   "metadata": {},
   "outputs": [],
   "source": [
    "tagnpy = np.load(root/\"..\"/\"tag.npy\")"
   ]
  },
  {
   "cell_type": "code",
   "execution_count": null,
   "metadata": {},
   "outputs": [],
   "source": [
    "# numericなsortかチェック→違うので変換cmpを用意\n",
    "for i in range(len(filelist)-1):\n",
    "    a = filelist[i]\n",
    "    b = filelist[i+1]\n",
    "    ai = int(a.stem.replace(\"seed\", \"\"))\n",
    "    bi = int(b.stem.replace(\"seed\", \"\"))\n",
    "    if ai+1 != bi:\n",
    "        print(a, b)\n",
    "        break"
   ]
  },
  {
   "cell_type": "code",
   "execution_count": null,
   "metadata": {},
   "outputs": [],
   "source": [
    "cmpinv = [int(file.stem.replace(\"seed\", \"\")) for file in filelist]\n",
    "cmp = {seed:i for i,seed in enumerate(cmpinv)}"
   ]
  },
  {
   "cell_type": "code",
   "execution_count": null,
   "metadata": {
    "tags": []
   },
   "outputs": [],
   "source": [
    "# dirty hack 4 load i2v\n",
    "cwdir = os.getcwd()\n",
    "i2vdir = Path(\"/home/natsuki/illustration2vec\")\n",
    "os.chdir(i2vdir)\n",
    "import i2v\n",
    "# %% 4096の特徴量使う版\n",
    "model_feat = i2v.make_i2v_with_chainer(\"illust2vec_ver200.caffemodel\")\n",
    "model_tag = i2v.make_i2v_with_chainer(\"illust2vec_tag_ver200.caffemodel\", \"tag_list.json\")\n",
    "os.chdir(cwdir)"
   ]
  },
  {
   "cell_type": "code",
   "execution_count": null,
   "metadata": {},
   "outputs": [],
   "source": [
    "type(img)"
   ]
  },
  {
   "cell_type": "code",
   "execution_count": null,
   "metadata": {
    "tags": []
   },
   "outputs": [],
   "source": [
    "from IPython.display import Javascript, display\n",
    "import ipywidgets as wi\n",
    "from PIL import Image\n",
    "from io import BytesIO\n",
    "from base64 import b64encode, b64decode\n",
    "from uuid import uuid4\n",
    "import numpy as np\n",
    "\n",
    "def ID_canvas(ID=None, width=300, height=100):\n",
    "    if not ID:\n",
    "        ID = str(uuid4())[:8]\n",
    "    canvas = wi.HTML(f\"\"\"\n",
    "    <canvas\n",
    "        id={ID}\n",
    "        width={width}\n",
    "        height={height}\n",
    "        style=background:white;>\n",
    "    </canvas>\n",
    "    \"\"\")\n",
    "    return ID, canvas\n",
    "\n",
    "def encode(image):\n",
    "    buffer = BytesIO()\n",
    "    image.save(buffer, format=\"png\")\n",
    "    text = b64encode(buffer.getvalue()).decode()\n",
    "    return f\"data:image/png;base64,{text}\"\n",
    "\n",
    "def decode(text):\n",
    "    return Image.open(BytesIO(b64decode(text.split(\",\")[-1])))\n",
    "spylusjs = Path('/home/natsuki/MaGAN/spylus/spylus.js')"
   ]
  },
  {
   "cell_type": "code",
   "execution_count": null,
   "metadata": {},
   "outputs": [],
   "source": [
    "fileupload = wi.FileUpload( accept='', multiple=False )\n",
    "fileupload"
   ]
  },
  {
   "cell_type": "code",
   "execution_count": null,
   "metadata": {
    "tags": []
   },
   "outputs": [],
   "source": [
    "bdata = next(iter(fileupload.value.values()))[\"content\"]\n",
    "img = Image.open(BytesIO(bdata))"
   ]
  },
  {
   "cell_type": "code",
   "execution_count": null,
   "metadata": {
    "tags": []
   },
   "outputs": [],
   "source": [
    "ID, canvas = ID_canvas(width=512, height=512)\n",
    "save_input = wi.Text(layout=wi.Layout(width=\"10%\"))\n",
    "paste_button = wi.Button(description=\"paste\")\n",
    "app = wi.VBox((\n",
    "    save_input,\n",
    "    paste_button,\n",
    "    canvas,\n",
    "))\n",
    "display(app,\n",
    "Javascript(f\"\"\"\n",
    "{spylusjs.read_text()}\n",
    "new (mix(\n",
    "    Save, Paste\n",
    "))({{\n",
    "    canvas: document.getElementById(\"{ID}\"),\n",
    "    save_input: elem('{ID}', 'input', 0),\n",
    "    paste_button: elem('{ID}', 'button', 0),\n",
    "}});\n",
    "\"\"\"))"
   ]
  },
  {
   "cell_type": "code",
   "execution_count": null,
   "metadata": {
    "tags": []
   },
   "outputs": [],
   "source": [
    "img = decode(save_input.value)\n",
    "type(img)"
   ]
  },
  {
   "cell_type": "code",
   "execution_count": null,
   "metadata": {
    "tags": []
   },
   "outputs": [],
   "source": [
    "target = model_feat.extract_feature([img])[0]\n",
    "print(target.shape)"
   ]
  },
  {
   "cell_type": "code",
   "execution_count": null,
   "metadata": {},
   "outputs": [],
   "source": [
    "target = tagnpy[cmp[16188]]"
   ]
  },
  {
   "cell_type": "code",
   "execution_count": null,
   "metadata": {},
   "outputs": [],
   "source": [
    "d = distance.euclidean\n",
    "#d = distance.cosine\n",
    "metrix = list()\n",
    "filelist.sort()\n",
    "for vec in tqdm(tagnpy):\n",
    "    metrix.append( d(target, vec) )\n",
    "tmp = list(zip(metrix, filelist))\n",
    "tmp.sort()\n",
    "filelist_sorted = list(zip(*tmp))[1]"
   ]
  },
  {
   "cell_type": "code",
   "execution_count": null,
   "metadata": {},
   "outputs": [],
   "source": [
    "Viewer(\n",
    "    filelist_sorted,\n",
    "    N=20,\n",
    "    key=\"nosort\",\n",
    "    root=root,\n",
    ")"
   ]
  }
 ],
 "metadata": {
  "interpreter": {
   "hash": "93908de20a6c520c67f7bfb8c544721ea1883c17bbecd61a6d61de1167f09900"
  },
  "kernelspec": {
   "display_name": "ada",
   "language": "python",
   "name": "ada"
  },
  "language_info": {
   "codemirror_mode": {
    "name": "ipython",
    "version": 3
   },
   "file_extension": ".py",
   "mimetype": "text/x-python",
   "name": "python",
   "nbconvert_exporter": "python",
   "pygments_lexer": "ipython3",
   "version": "3.8.10"
  }
 },
 "nbformat": 4,
 "nbformat_minor": 4
}

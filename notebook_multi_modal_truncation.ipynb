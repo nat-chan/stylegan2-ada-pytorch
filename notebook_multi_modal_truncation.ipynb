{
 "cells": [
  {
   "cell_type": "code",
   "execution_count": null,
   "id": "2f6b6f8e-17f2-47b8-a13f-60d89064ff9c",
   "metadata": {},
   "outputs": [],
   "source": [
    "import os\n",
    "os.environ[\"CUDA_VISIBLE_DEVICES\"] = \"7\"\n",
    "device = \"cuda\"\n",
    "import pickle\n",
    "import torch\n",
    "import numpy as np\n",
    "from PIL import Image\n",
    "from PIL import ImageDraw\n",
    "from PIL import ImageFont\n",
    "from pathlib import Path\n",
    "from tqdm.notebook import tqdm\n",
    "from sklearn.cluster import KMeans"
   ]
  },
  {
   "cell_type": "code",
   "execution_count": null,
   "id": "f7c39744-7732-4045-aaba-71ca18a78b18",
   "metadata": {},
   "outputs": [],
   "source": [
    "#fm = Path(\"/data/natsuki/training116/00030-v4-mirror-auto4-gamma100-batch64-noaug-resumecustom/network-snapshot-011289.pkl\")\n",
    "fm = Path(\"/data/natsuki/training116/00023-white_yc05_yw04-mirror-auto4-gamma10-noaug/network-snapshot-021800.pkl\")\n",
    "assert fm.is_file()\n",
    "with open(fm, 'rb') as f:\n",
    "    G = pickle.load(f)['G_ema'].to(device)\n",
    "def mapping(seed=1, psi=1):\n",
    "    label = torch.zeros([1, G.c_dim], device=device)\n",
    "    z = torch.from_numpy(np.random.RandomState(seed).randn(1, G.z_dim)).to(device)\n",
    "    w = G.mapping(z, label, truncation_psi=psi)\n",
    "    return w\n",
    "def synthesis(w, synth=True):\n",
    "    if synth:\n",
    "        synth_image = G.synthesis(w, noise_mode='const')\n",
    "    else:\n",
    "        synth_image = w\n",
    "    synth_image = (synth_image + 1) * (255/2)\n",
    "    synth_image = synth_image.permute(0, 2, 3, 1).clamp(0, 255).to(torch.uint8)[0].cpu().numpy()\n",
    "    img = Image.fromarray(synth_image, 'RGB')\n",
    "    return img"
   ]
  },
  {
   "cell_type": "code",
   "execution_count": null,
   "id": "febd987a-35b0-43f1-ad81-7495e609e25d",
   "metadata": {},
   "outputs": [],
   "source": [
    "batch = 32\n",
    "sample_num = 6 * 10**4\n",
    "cluster_num = 64\n",
    "label = torch.zeros([1, G.c_dim], device=device)\n",
    "assert sample_num % batch == 0\n",
    "ws = list()\n",
    "for j in tqdm(range(sample_num//batch)):\n",
    "    ws += list(G.mapping(torch.from_numpy(np.array([np.random.RandomState(batch*j+i).randn(G.z_dim) for i in range(batch)])).to(device), label).cpu().numpy()[:,0,:])\n",
    "ws = np.array(ws)\n",
    "print(ws.shape)"
   ]
  },
  {
   "cell_type": "code",
   "execution_count": null,
   "id": "507dd884-42e8-4998-9239-c890b146f4e8",
   "metadata": {},
   "outputs": [],
   "source": [
    "km = KMeans(cluster_num, init=\"random\")\n",
    "km.fit(ws)\n",
    "print(km.cluster_centers_.shape)"
   ]
  },
  {
   "cell_type": "code",
   "execution_count": null,
   "id": "b343beec-c8e3-488b-b684-d95e61f6fcc7",
   "metadata": {},
   "outputs": [],
   "source": [
    "dst = Image.new(\"RGB\", (4096, 4096))\n",
    "for i in range(8):\n",
    "    for j in range(8):\n",
    "        tmp = synthesis(torch.from_numpy(km.cluster_centers_[None,None,8*i+j]).repeat((1,16,1)).to(device))\n",
    "        font = ImageFont.truetype(\"/usr/share/fonts/opentype/ipafont-gothic/ipag.ttf\", 50)\n",
    "        ImageDraw.Draw(tmp).text((0,0), f\"{8*i+j}\", (0,0,0), font)\n",
    "        dst.paste(tmp, (512*j, 512*i))\n",
    "dst"
   ]
  }
 ],
 "metadata": {
  "interpreter": {
   "hash": "93908de20a6c520c67f7bfb8c544721ea1883c17bbecd61a6d61de1167f09900"
  },
  "kernelspec": {
   "display_name": "ada",
   "language": "python",
   "name": "ada"
  },
  "language_info": {
   "codemirror_mode": {
    "name": "ipython",
    "version": 3
   },
   "file_extension": ".py",
   "mimetype": "text/x-python",
   "name": "python",
   "nbconvert_exporter": "python",
   "pygments_lexer": "ipython3",
   "version": "3.8.10"
  }
 },
 "nbformat": 4,
 "nbformat_minor": 5
}

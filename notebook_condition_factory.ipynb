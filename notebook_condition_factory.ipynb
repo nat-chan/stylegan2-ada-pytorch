{
 "cells": [
  {
   "cell_type": "code",
   "execution_count": null,
   "metadata": {},
   "outputs": [],
   "source": [
    "from script_util import root, fname2id, id2fname, bucket\n",
    "import json\n",
    "from tqdm.notebook import tqdm"
   ]
  },
  {
   "cell_type": "code",
   "execution_count": null,
   "metadata": {},
   "outputs": [],
   "source": [
    "targets = list(map(fname2id, (root/\"danbooru2020/v4\").glob(\"**/*.png\")))"
   ]
  },
  {
   "cell_type": "code",
   "execution_count": null,
   "metadata": {},
   "outputs": [],
   "source": [
    "# v4pose 鼻から腰を含まない11点xyをflattenしてconditionとする\n",
    "labels = list()\n",
    "for _id in tqdm(targets):\n",
    "    fname = id2fname(_id, prefix=\"whitewaist_pose\", ext=\"json\")\n",
    "    with open(fname, \"r\") as f:\n",
    "        data = json.load(f)\n",
    "        cond = [i/512 for i in sum(data.values(), [])][:22]\n",
    "        index = f\"{bucket(_id)}/{_id}.png\"\n",
    "        labels.append([index, cond])"
   ]
  },
  {
   "cell_type": "code",
   "execution_count": null,
   "metadata": {},
   "outputs": [],
   "source": [
    "with open(\"dataset.json\", \"w\") as f:\n",
    "    json.dump({\"labels\": labels}, f)"
   ]
  }
 ],
 "metadata": {
  "interpreter": {
   "hash": "93908de20a6c520c67f7bfb8c544721ea1883c17bbecd61a6d61de1167f09900"
  },
  "kernelspec": {
   "display_name": "ada",
   "language": "python",
   "name": "python3"
  },
  "language_info": {
   "codemirror_mode": {
    "name": "ipython",
    "version": 3
   },
   "file_extension": ".py",
   "mimetype": "text/x-python",
   "name": "python",
   "nbconvert_exporter": "python",
   "pygments_lexer": "ipython3",
   "version": "3.8.10"
  }
 },
 "nbformat": 4,
 "nbformat_minor": 4
}

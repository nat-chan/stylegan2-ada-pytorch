{
 "cells": [
  {
   "cell_type": "code",
   "execution_count": null,
   "id": "e8912b7d-7a53-4643-8e00-66fb8ba8c7f9",
   "metadata": {},
   "outputs": [],
   "source": [
    "import os\n",
    "os.environ[\"CUDA_VISIBLE_DEVICES\"] = \"7\"\n",
    "device = \"cuda\"\n",
    "import pickle\n",
    "import torch\n",
    "import numpy as np\n",
    "from PIL import Image\n",
    "from pathlib import Path\n",
    "fm = Path(\"/data/natsuki/training116/00030-v4-mirror-auto4-gamma100-batch64-noaug-resumecustom/network-snapshot-011289.pkl\")\n",
    "assert fm.is_file()\n",
    "with open(fm, 'rb') as f:\n",
    "    G = pickle.load(f)['G_ema'].to(device)\n",
    "def mapping(seed=1, psi=1):\n",
    "    label = torch.zeros([1, G.c_dim], device=device)\n",
    "    z = torch.from_numpy(np.random.RandomState(seed).randn(1, G.z_dim)).to(device)\n",
    "    w = G.mapping(z, label, truncation_psi=psi)\n",
    "    return w\n",
    "def synthesis(w, synth=True):\n",
    "    if synth:\n",
    "        synth_image = G.synthesis(w, noise_mode='const')\n",
    "    else:\n",
    "        synth_image = w\n",
    "    synth_image = (synth_image + 1) * (255/2)\n",
    "    synth_image = synth_image.permute(0, 2, 3, 1).clamp(0, 255).to(torch.uint8)[0].cpu().numpy()\n",
    "    img = Image.fromarray(synth_image, 'RGB')\n",
    "    return img"
   ]
  },
  {
   "cell_type": "code",
   "execution_count": null,
   "id": "ea0ecde4-2891-4290-aa8c-4fd485922f06",
   "metadata": {},
   "outputs": [],
   "source": [
    "w1 = mapping(43076)\n",
    "w2 = mapping(28481)\n",
    "\n",
    "q = 8\n",
    "a = torch.vstack([w1[0,:q,:], w2[0,q:,:]])[None,:,:]\n",
    "synthesis(a)"
   ]
  },
  {
   "cell_type": "code",
   "execution_count": null,
   "id": "35a6fbc7-aab3-4062-a3c1-cbe4fe946038",
   "metadata": {},
   "outputs": [],
   "source": [
    "p = 0.7\n",
    "a = w1*p+w2*(1-p)\n",
    "synthesis(a)"
   ]
  },
  {
   "cell_type": "code",
   "execution_count": null,
   "id": "db502429",
   "metadata": {
    "tags": []
   },
   "outputs": [],
   "source": [
    "# 中間特徴量の可視化\n",
    "from random import randint\n",
    "\n",
    "import cv2\n",
    "\n",
    "def forward(self, ws, **block_kwargs):\n",
    "    block_ws = []\n",
    "    ws = ws.to(torch.float32)\n",
    "    w_idx = 0\n",
    "    for res in self.block_resolutions:\n",
    "        block = getattr(self, f'b{res}')\n",
    "        block_ws.append(ws.narrow(1, w_idx, block.num_conv + block.num_torgb))\n",
    "        w_idx += block.num_conv\n",
    "    x = img = None\n",
    "    imgs = list()\n",
    "    for res, cur_ws in zip(self.block_resolutions, block_ws):\n",
    "        block = getattr(self, f'b{res}')\n",
    "        x, img = block(x, img, cur_ws, **block_kwargs)\n",
    "        imgs.append(img)\n",
    "    return imgs\n",
    "\n",
    "imgs = forward(G.synthesis, mapping(randint(1, 10000000)), noise_mode='const')\n",
    "def eqhistlat(imgs, i=0):\n",
    "    img = imgs[-i-1]\n",
    "    a = max(img.min().abs(), img.max().abs())\n",
    "    synth_image = (img/a + 1) * (255/2)\n",
    "    synth_image = synth_image.permute(0, 2, 3, 1).clamp(0, 255).to(torch.uint8)[0].cpu().numpy()\n",
    "\n",
    "    equ = [cv2.equalizeHist(synth_image[:,:,i]) for i in range(3)]\n",
    "    equ = np.stack(equ, axis=2)\n",
    "    equ = cv2.resize(equ, dsize=None, fx=2**i, fy=2**i)\n",
    "    return equ\n",
    "\n",
    "equs = [eqhistlat(imgs, i) for i in range(3)]\n",
    "equs = np.hstack(equs)\n",
    "Image.fromarray(equs)"
   ]
  }
 ],
 "metadata": {
  "interpreter": {
   "hash": "93908de20a6c520c67f7bfb8c544721ea1883c17bbecd61a6d61de1167f09900"
  },
  "kernelspec": {
   "display_name": "ada",
   "language": "python",
   "name": "ada"
  },
  "language_info": {
   "codemirror_mode": {
    "name": "ipython",
    "version": 3
   },
   "file_extension": ".py",
   "mimetype": "text/x-python",
   "name": "python",
   "nbconvert_exporter": "python",
   "pygments_lexer": "ipython3",
   "version": "3.8.10"
  }
 },
 "nbformat": 4,
 "nbformat_minor": 5
}

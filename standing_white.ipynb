{
 "cells": [
  {
   "cell_type": "code",
   "execution_count": null,
   "metadata": {},
   "outputs": [],
   "source": [
    "from importlib import reload\n",
    "import ipynb.fs.full.viewer\n",
    "reload(ipynb.fs.full.viewer)\n",
    "from ipynb.fs.full.viewer import Viewer, root, bucket\n",
    "import pickle\n",
    "from pprint import pprint\n",
    "from dotdict import dotdict\n",
    "from functools import reduce\n",
    "\n",
    "from typing import *\n",
    "import matplotlib.pyplot as plt\n",
    "import random\n",
    "import PIL\n",
    "from pathlib import Path\n",
    "import json\n",
    "from collections import defaultdict\n",
    "from vivid.utils import timer\n",
    "import subprocess\n",
    "from subprocess import PIPE\n",
    "from tqdm import tqdm\n",
    "from time import time\n",
    "from functools import lru_cache"
   ]
  },
  {
   "cell_type": "code",
   "execution_count": null,
   "metadata": {},
   "outputs": [],
   "source": [
    "old = set(Path(root/\"danbooru2019/512px.dat\").read_text().strip().split())\n",
    "safe =  set((root/\"danbooru2020/512px.dat\").read_text().strip().split())\n",
    "\n",
    "fire_eggs = dict()\n",
    "for k in \"duplicates is_deleted no_humans not-image photo text_only_page\".split():\n",
    "    fire_eggs[k] = set((root/f\"danbooru2020/Danbooru2019/reduce/{k}.txt\").read_text().strip().split())\n",
    "    \n",
    "ge512 =  set((root/\"danbooru2020/ge512.ids\").read_text().strip().split())\n",
    "ge1024 =  set((root/\"danbooru2020/ge1024.ids\").read_text().strip().split())\n",
    "\n",
    "i = 0\n",
    "if not \"ids\" in globals():\n",
    "    with timer(prefix=\"read_id_pkl\"): # 311[s]\n",
    "        with open((root/f\"{i}_id.pkl\"), \"rb\") as f:\n",
    "            ids = pickle.load(f)\n",
    "if not \"tags\" in globals():\n",
    "    with timer(prefix=\"read_tag_pkl\"): # 58[s]\n",
    "        with open((root/f\"{i}_tag.pkl\"), \"rb\") as f:\n",
    "            tags = pickle.load(f)"
   ]
  },
  {
   "cell_type": "code",
   "execution_count": null,
   "metadata": {},
   "outputs": [],
   "source": [
    "@lru_cache(maxsize=None)\n",
    "def t(s):\n",
    "    if \"|\" in s:\n",
    "        retval = reduce(set.__or__, map(tags.get, s.split(\"|\")))\n",
    "    else:\n",
    "        retval = reduce(set.__and__, map(tags.get, s.split(\"&\")))\n",
    "    return retval\n",
    "def id2fname(_id, prefix=\"512white\"):\n",
    "    return str(root/f\"danbooru2020/{prefix}/{bucket(_id)}/{_id}.png\")"
   ]
  },
  {
   "cell_type": "code",
   "execution_count": null,
   "metadata": {},
   "outputs": [],
   "source": [
    "#solo = t(\"1girl|solo|1boy\")\n",
    "solo = t(\"1girl|solo|1boy\")\n",
    "standing = t(\"standing&full_body\")\n",
    "white = t(\"white_background|transparent_background\")\n",
    "exc = t('|'.join([\n",
    "    \"2boys|2girls|3boys|3girls|4boys|4girls|5boys|5girls|6+boys|6+girls|multiple_boys|multiple_girls\",\n",
    "    \"car|bicycle\",\n",
    "    \"no_humans|arachne|pokemon_(creature)|octoling|monster_girl|isabelle_(animal_crossing)|animal_nose|animal_hug\",\n",
    "    \"robot|cyborg|mecha_musume|machinery|doll_joints|crewmate_(among_us)\",\n",
    "    \"blue_skin|purple_skin|wrinkled_skin|green_skin|two-tone_skin\",\n",
    "    \"monochrome|lineart|text_only_page|photo-referenced|3d|unconventional_media|comic\",\n",
    "    \"multiple_views|variations|zoom_layer\",\n",
    "    \"full_armor|weapon|chibi|cannon|mask\",\n",
    "    \"back|ass|from_behind|from_above|bent_over|dutch_angle|standing_split\",\n",
    "    \"translation_request\",\n",
    "    \"fox_tail\",\n",
    "    \"otter_costume\",\n",
    "]))|reduce(set.__or__, fire_eggs.values())|t(\"1girl&1boy\")\n",
    "#v3 = (safe&solo&standing&white&ge1024)-exc\n",
    "v3 = set()|solo # id(v3) != id(solo)\n",
    "print(\"{:,}\\t {}\".format(len(v3), \"solo\"))\n",
    "v3 &= standing\n",
    "print(\"{:,}\\t {}\".format(len(v3), \"standing\"))\n",
    "v3 &= safe\n",
    "print(\"{:,}\\t {}\".format(len(v3), \"safe\"))\n",
    "v3 &= ge1024\n",
    "print(\"{:,}\\t {}\".format(len(v3), \"ge1024\"))\n",
    "v3 &= white\n",
    "print(\"{:,}\\t {}\".format(len(v3), \"white\"))\n",
    "v3 -= exc\n",
    "print(\"{:,}\\t {}\".format(len(v3), \"exc\"))"
   ]
  },
  {
   "cell_type": "code",
   "execution_count": null,
   "metadata": {},
   "outputs": [],
   "source": [
    "viewer_v3 = Viewer(map(id2fname, v3), N=12*6-1, name=\"v3\")\n",
    "viewer_v3"
   ]
  },
  {
   "cell_type": "code",
   "execution_count": null,
   "metadata": {},
   "outputs": [],
   "source": [
    "for k in ids[\"4203535\"][\"tags\"]:\n",
    "    print(k[\"name\"])"
   ]
  },
  {
   "cell_type": "code",
   "execution_count": null,
   "metadata": {},
   "outputs": [],
   "source": [
    "Viewer(map(id2fname, tags[\"\"]))"
   ]
  },
  {
   "cell_type": "code",
   "execution_count": null,
   "metadata": {},
   "outputs": [],
   "source": [
    "Viewer(map(id2fname, v3-tags[\"simple_background\"]))"
   ]
  },
  {
   "cell_type": "code",
   "execution_count": null,
   "metadata": {},
   "outputs": [],
   "source": [
    "Exception"
   ]
  },
  {
   "cell_type": "code",
   "execution_count": null,
   "metadata": {},
   "outputs": [],
   "source": []
  }
 ],
 "metadata": {
  "kernelspec": {
   "display_name": "Python 3",
   "language": "python",
   "name": "python3"
  },
  "language_info": {
   "codemirror_mode": {
    "name": "ipython",
    "version": 3
   },
   "file_extension": ".py",
   "mimetype": "text/x-python",
   "name": "python",
   "nbconvert_exporter": "python",
   "pygments_lexer": "ipython3",
   "version": "3.7.10"
  }
 },
 "nbformat": 4,
 "nbformat_minor": 4
}

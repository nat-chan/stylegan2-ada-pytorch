{
 "cells": [
  {
   "cell_type": "code",
   "execution_count": null,
   "metadata": {},
   "outputs": [],
   "source": [
    "from importlib import reload\n",
    "import ipynb.fs.full.viewer\n",
    "reload(ipynb.fs.full.viewer)\n",
    "from ipynb.fs.full.viewer import Viewer, root, bucket\n",
    "import pickle\n",
    "from pprint import pprint\n",
    "from dotdict import dotdict\n",
    "from functools import reduce\n",
    "\n",
    "from typing import *\n",
    "import matplotlib.pyplot as plt\n",
    "import random\n",
    "import PIL\n",
    "from pathlib import Path\n",
    "import json\n",
    "from collections import defaultdict\n",
    "from vivid.utils import timer\n",
    "import subprocess\n",
    "from subprocess import PIPE\n",
    "from tqdm import tqdm\n",
    "from time import time\n",
    "old = set(Path(root/\"danbooru2019/512px.dat\").read_text().strip().split())\n",
    "safe =  set((root/\"danbooru2020/512px.dat\").read_text().strip().split())\n",
    "i = 0\n",
    "if not \"ids\" in globals():\n",
    "    with timer(prefix=\"read_id_pkl\"): # 311[s]\n",
    "        with open((root/f\"{i}_id.pkl\"), \"rb\") as f:\n",
    "            ids = pickle.load(f)\n",
    "if not \"tags\" in globals():\n",
    "    with timer(prefix=\"read_tag_pkl\"): # 58[s]\n",
    "        with open((root/f\"{i}_tag.pkl\"), \"rb\") as f:\n",
    "            tags = pickle.load(f)"
   ]
  },
  {
   "cell_type": "code",
   "execution_count": null,
   "metadata": {},
   "outputs": [],
   "source": [
    "fire_eggs = dict()\n",
    "for k in \"duplicates is_deleted no_humans not-image photo text_only_page\".split():\n",
    "    fire_eggs[k] = set((root/f\"danbooru2020/Danbooru2019/reduce/{k}.txt\").read_text().strip().split())"
   ]
  },
  {
   "cell_type": "code",
   "execution_count": null,
   "metadata": {},
   "outputs": [],
   "source": [
    "def t(s):\n",
    "    if \"|\" in s:\n",
    "        retval = reduce(set.__or__, map(tags.get, s.split(\"|\")))\n",
    "    else:\n",
    "        retval = reduce(set.__and__, map(tags.get, s.split(\"&\")))\n",
    "    print(\"{:,}\\t {}\".format(len(retval), s))\n",
    "    return retval\n",
    "def id2fname(_id, prefix=\"512white\"):\n",
    "    return str(root/f\"danbooru2020/{prefix}/{bucket(_id)}/{_id}.png\")"
   ]
  },
  {
   "cell_type": "code",
   "execution_count": null,
   "metadata": {
    "tags": []
   },
   "outputs": [],
   "source": [
    "solo = t(\"1girl|solo|1boy\")\n",
    "standing = t(\"standing&full_body&highres\")\n",
    "white = t(\"white_background|transparent_background\")\n",
    "exc = t('|'.join([\n",
    "\"2boys|2girls|3boys|3girls|4boys|4girls|5boys|5girls|6+boys|6+girls|multiple_boys|multiple_girls\",\n",
    "\"car|bicycle\",\n",
    "\"no_humans|arachne|robot|pokemon_(creature)|octoling|cyborg|monster_girl\",\n",
    "\"blue_skin|purple_skin|wrinkled_skin|green_skin|two-tone_skin\",\n",
    "\"monochrome|lineart|text_only_page|photo-referenced|3d\",\n",
    "\"multiple_views|variations|zoom_layer\",\n",
    "\"full_armor|weapon|chibi|cannon|mask\",\n",
    "\"back|ass|from_behind|from_above|bent_over|dutch_angle\",\n",
    "\"translation_request\"\n",
    "]))|reduce(set.__or__, fire_eggs.values())\n",
    "\n",
    "v3 = (safe&solo&standing&white)-exc\n",
    "print(\"{:,}\\t {}\".format(len(v3), \"v3\"))"
   ]
  },
  {
   "cell_type": "code",
   "execution_count": null,
   "metadata": {},
   "outputs": [],
   "source": [
    "viewer = Viewer(map(id2fname, v3))\n",
    "viewer"
   ]
  },
  {
   "cell_type": "code",
   "execution_count": null,
   "metadata": {},
   "outputs": [],
   "source": [
    "for k in ids[\"4254102\"][\"tags\"]:\n",
    "    print(k[\"name\"])"
   ]
  },
  {
   "cell_type": "code",
   "execution_count": null,
   "metadata": {},
   "outputs": [],
   "source": [
    "horns = Viewer(map(id2fname, tags[\"horns\"]&v3))\n",
    "horns"
   ]
  },
  {
   "cell_type": "code",
   "execution_count": null,
   "metadata": {},
   "outputs": [],
   "source": []
  }
 ],
 "metadata": {
  "kernelspec": {
   "display_name": "Python 3",
   "language": "python",
   "name": "python3"
  },
  "language_info": {
   "codemirror_mode": {
    "name": "ipython",
    "version": 3
   },
   "file_extension": ".py",
   "mimetype": "text/x-python",
   "name": "python",
   "nbconvert_exporter": "python",
   "pygments_lexer": "ipython3",
   "version": "3.7.10"
  }
 },
 "nbformat": 4,
 "nbformat_minor": 4
}

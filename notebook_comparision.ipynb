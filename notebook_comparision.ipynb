{
 "cells": [
  {
   "cell_type": "code",
   "execution_count": null,
   "metadata": {},
   "outputs": [],
   "source": [
    "from importlib import reload\n",
    "import ipynb.fs.full.notebook_viewer\n",
    "reload(ipynb.fs.full.notebook_viewer)\n",
    "from ipynb.fs.full.notebook_viewer import Viewer, root, bucket, fname2id, id2fname, split_dump, Filter\n",
    "import pickle\n",
    "from pickle import Unpickler\n",
    "from pprint import pprint\n",
    "from dotdict import dotdict\n",
    "from functools import reduce\n",
    "\n",
    "from typing import *\n",
    "import matplotlib.pyplot as plt\n",
    "import random\n",
    "import PIL\n",
    "from pathlib import Path\n",
    "import json\n",
    "from collections import defaultdict\n",
    "from vivid.utils import timer\n",
    "import subprocess\n",
    "from subprocess import PIPE\n",
    "from tqdm.notebook import tqdm\n",
    "from time import time\n",
    "from functools import lru_cache\n",
    "import numpy as np\n",
    "from PIL import Image\n",
    "import imagesize\n",
    "unit = 1\n",
    "cmap = plt.get_cmap(\"tab10\")\n",
    "cmap"
   ]
  },
  {
   "cell_type": "code",
   "execution_count": null,
   "metadata": {},
   "outputs": [],
   "source": [
    "master = {\n",
    "    \"v3-mirror-auto4-noaug\":{\n",
    "        \"paths\":[root/\"training116/00013-v3-mirror-auto4-noaug\"],\n",
    "        \"color\": cmap(0),\n",
    "        \"label\": \"背景白で腰上の立ち絵,2万枚,augなし\",\n",
    "    },\n",
    "    \"v4-mirror-auto4-noaug\":{\n",
    "        \"paths\":[root/\"training116/00015-v4-mirror-auto4-noaug\"],\n",
    "        \"color\": cmap(4),\n",
    "        \"label\": \"背景白で腰上の立ち絵,8万枚,augなし\",\n",
    "    },\n",
    "    \"v3-mirror-auto4-bg\":{\n",
    "        \"paths\": [root/\"training115/00009-v3-mirror-auto4-bg\", root/\"training115/00010-v3-mirror-auto4-bg-resumecustom\", root/\"training116/00014-v3-mirror-auto4-bg-resumecustom\"],\n",
    "        \"color\": cmap(1),\n",
    "        \"label\": \"背景白で腰上の立ち絵,2万枚,augはbitblit+geometry\",\n",
    "    },\n",
    "    \"portraits-mirror-auto4-noaug\":{\n",
    "        \"paths\":[root/\"training116/00009-portraits-mirror-auto4-noaug\"],\n",
    "        \"color\": cmap(2),\n",
    "        \"label\": \"顔アップ,30万枚,augなし\",\n",
    "    },\n",
    "    \"portraits-mirror-auto4\":{\n",
    "        \"paths\":[root/\"training116/00010-portraits-mirror-auto4\"],\n",
    "        \"color\": cmap(3),\n",
    "        \"label\": \"顔アップ,30万枚,augはbitblit+geometry+color\",\n",
    "    },\n",
    "}"
   ]
  },
  {
   "cell_type": "code",
   "execution_count": null,
   "metadata": {},
   "outputs": [],
   "source": [
    "class Result(NamedTuple):\n",
    "    path: Path\n",
    "    metric: Dict[str, Any]\n",
    "\n",
    "class Results:\n",
    "    def __init__(self, paths):\n",
    "        self.results = list()\n",
    "        for i, path in enumerate(paths):\n",
    "            for j, line in enumerate((path/\"metric-fid50k_full.jsonl\").read_text().strip().split(\"\\n\")):\n",
    "                if i != 0 and j == 0: continue\n",
    "                metric = json.loads(line)\n",
    "                self.results.append(Result(path, metric))\n",
    "    def __len__(self):\n",
    "        return len(self.results)\n",
    "    def fid50k_full(self):\n",
    "        return [metric[\"results\"][\"fid50k_full\"] for path, metric in self.results]\n",
    "    def image(self, i):\n",
    "        path, metric = self.results[i]\n",
    "        num = metric[\"snapshot_pkl\"].split(\"-\")[-1].split(\".\")[0]\n",
    "        return path/f\"fakes{num}.png\""
   ]
  },
  {
   "cell_type": "code",
   "execution_count": null,
   "metadata": {},
   "outputs": [],
   "source": [
    "def myplot(names: List[str], best=1):\n",
    "    fig = plt.figure(facecolor=\"white\", dpi=100)\n",
    "    ax = fig.add_subplot()\n",
    "#    plt.rcParams[\"font.size\"] = 12.5\n",
    "    plt.rcParams[\"font.family\"] = \"IPAPGothic\"\n",
    "    plt.grid()\n",
    "    for name in names:\n",
    "        results = Results(master[name][\"paths\"])\n",
    "        Y = results.fid50k_full()\n",
    "        X = [unit*i for i in range(len(Y))]\n",
    "        YX = list(zip(Y, X))\n",
    "        YX.sort()\n",
    "        bests = set()\n",
    "        for i in range(best):\n",
    "            y, x = YX[i]\n",
    "            bests.add(y)\n",
    "#            ax.text(x, y-50, f\"{y:.1f}\\n{x}\\n{results.image(x)}\", color=master[name][\"color\"])\n",
    "            ax.text(x, y-50, f\"{y:.1f}\\n{x}\", color=master[name][\"color\"])\n",
    "            plt.scatter([x], [y], marker=\"x\", color=master[name][\"color\"])\n",
    "        plt.plot(X, Y, label=master[name].get(\"label\", name), marker=\"|\", color=master[name][\"color\"])\n",
    "\n",
    "    plt.xlabel(\"*200kimg\")\n",
    "    plt.ylabel(\"fid50k_full\")\n",
    "    plt.legend()"
   ]
  },
  {
   "cell_type": "code",
   "execution_count": null,
   "metadata": {},
   "outputs": [],
   "source": [
    "myplot([\"v3-mirror-auto4-bg\",\"v3-mirror-auto4-noaug\", \"v4-mirror-auto4-noaug\"])"
   ]
  },
  {
   "cell_type": "code",
   "execution_count": null,
   "metadata": {},
   "outputs": [],
   "source": []
  }
 ],
 "metadata": {
  "interpreter": {
   "hash": "730f8ff9a17c09ad64fdbb8ff3c0b9ab943a5e1a244f8e4b2870cc12d118e2d8"
  },
  "kernelspec": {
   "display_name": "Python 3",
   "language": "python",
   "name": "python3"
  },
  "language_info": {
   "codemirror_mode": {
    "name": "ipython",
    "version": 3
   },
   "file_extension": ".py",
   "mimetype": "text/x-python",
   "name": "python",
   "nbconvert_exporter": "python",
   "pygments_lexer": "ipython3",
   "version": "3.7.10"
  }
 },
 "nbformat": 4,
 "nbformat_minor": 4
}

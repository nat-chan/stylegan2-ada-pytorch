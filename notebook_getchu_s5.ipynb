{
 "cells": [
  {
   "cell_type": "code",
   "execution_count": null,
   "metadata": {},
   "outputs": [],
   "source": [
    "from importlib import reload\n",
    "from ipynb.fs.full.notebook_viewer import Viewer\n",
    "from script_util import root, split_dump\n",
    "import pickle\n",
    "from dotdict import dotdict\n",
    "from functools import reduce\n",
    "import pickle"
   ]
  },
  {
   "cell_type": "code",
   "execution_count": null,
   "metadata": {},
   "outputs": [],
   "source": [
    "with open(root/\"getchu_s5_i2v.pkl\", \"rb\") as f:\n",
    "    getchu_s5_i2v = pickle.load(f)"
   ]
  },
  {
   "cell_type": "code",
   "execution_count": null,
   "metadata": {},
   "outputs": [],
   "source": [
    "class Searcher(dotdict):\n",
    "    def __call__(self, name, func):\n",
    "        fnames = set()\n",
    "        for k, v in getchu_s5_i2v.items():\n",
    "            if func(k, v):\n",
    "                fnames.add(k)\n",
    "        self[name] = Viewer(fnames)\n",
    "        return self[name]\n",
    "    def allbag(self):\n",
    "        return reduce(set.__or__, [self[k].bag for k in self])\n",
    "S = Searcher()"
   ]
  },
  {
   "cell_type": "code",
   "execution_count": null,
   "metadata": {},
   "outputs": [],
   "source": [
    "S(\"solo\", lambda k,v:0.2 >= dict(v['general'])[\"solo\"])"
   ]
  },
  {
   "cell_type": "code",
   "execution_count": null,
   "metadata": {},
   "outputs": [],
   "source": [
    "S(\"chibi\", lambda k,v:0.2 <= v['general'][\"chibi\"])"
   ]
  },
  {
   "cell_type": "code",
   "execution_count": null,
   "metadata": {},
   "outputs": [],
   "source": [
    "S(\"no humans\", lambda k,v:0.009 <= v['general'].get(\"no humans\", 0))"
   ]
  },
  {
   "cell_type": "code",
   "execution_count": null,
   "metadata": {},
   "outputs": [],
   "source": [
    "S(\"pale skin\", lambda k,v:0.06 <= v['general'].get(\"pale skin\", 0))"
   ]
  },
  {
   "cell_type": "code",
   "execution_count": null,
   "metadata": {},
   "outputs": [],
   "source": [
    "S(\"weapon\", lambda k,v:0.5 <= v['general'][\"weapon\"])"
   ]
  },
  {
   "cell_type": "code",
   "execution_count": null,
   "metadata": {},
   "outputs": [],
   "source": [
    "S(\"armor\", lambda k,v:0.5 <= v['general'][\"armor\"])"
   ]
  },
  {
   "cell_type": "code",
   "execution_count": null,
   "metadata": {},
   "outputs": [],
   "source": [
    "S(\"standing\", lambda k,v:0.025 >= v['general'][\"standing\"])"
   ]
  },
  {
   "cell_type": "code",
   "execution_count": null,
   "metadata": {},
   "outputs": [],
   "source": [
    "S(\"tail\", lambda k,v:0.7 <= v['general'][\"tail\"])"
   ]
  },
  {
   "cell_type": "code",
   "execution_count": null,
   "metadata": {},
   "outputs": [],
   "source": [
    "S(\"gun\", lambda k,v:0.2 <= v['general'][\"gun\"])"
   ]
  },
  {
   "cell_type": "code",
   "execution_count": null,
   "metadata": {},
   "outputs": [],
   "source": [
    "S(\"sword\", lambda k,v:0.3 <= v['general'][\"sword\"])"
   ]
  },
  {
   "cell_type": "code",
   "execution_count": null,
   "metadata": {},
   "outputs": [],
   "source": [
    "S(\"back\", lambda k,v:0.03 <= v['general'][\"back\"])"
   ]
  },
  {
   "cell_type": "code",
   "execution_count": null,
   "metadata": {},
   "outputs": [],
   "source": [
    "S(\"mask\", lambda k,v:0.03 <= v['general'][\"mask\"])"
   ]
  },
  {
   "cell_type": "code",
   "execution_count": null,
   "metadata": {},
   "outputs": [],
   "source": [
    "S(\"wings\", lambda k,v:0.2 <= v['general'][\"wings\"])"
   ]
  },
  {
   "cell_type": "code",
   "execution_count": null,
   "metadata": {},
   "outputs": [],
   "source": [
    "S(\"explicit\", lambda k,v: 0.1 <= v[\"rating\"][\"explicit\"])"
   ]
  },
  {
   "cell_type": "code",
   "execution_count": null,
   "metadata": {},
   "outputs": [],
   "source": [
    "print(len(getchu_s5_i2v), len(S.allbag()))"
   ]
  },
  {
   "cell_type": "code",
   "execution_count": null,
   "metadata": {},
   "outputs": [],
   "source": [
    "viewer = Viewer(getchu_s5_i2v.keys()-S.allbag(), N=12*6-1)\n",
    "viewer"
   ]
  },
  {
   "cell_type": "code",
   "execution_count": null,
   "metadata": {},
   "outputs": [],
   "source": [
    "\"viewer/-1028203537065178163.pkl\"\n",
    "viewer.bag"
   ]
  },
  {
   "cell_type": "code",
   "execution_count": null,
   "metadata": {},
   "outputs": [],
   "source": [
    "getchu_s5_checked = set(getchu_s5_i2v.keys()-(viewer.bag|S.allbag()))\n",
    "assert len(getchu_s5_checked) == 10000\n",
    "with open(root/\"getchu_s5_checked.pkl\", \"wb\") as f:\n",
    "    pickle.dump(getchu_s5_checked, f, protocol=4)"
   ]
  },
  {
   "cell_type": "code",
   "execution_count": null,
   "metadata": {},
   "outputs": [],
   "source": [
    "with (root/\"getchu_s5_checked.ids\").open(\"w\") as f:\n",
    "    f.writelines(f\"{fname}\\n\" for fname in getchu_s5_checked)"
   ]
  },
  {
   "cell_type": "code",
   "execution_count": null,
   "metadata": {},
   "outputs": [],
   "source": [
    "for _, v in getchu_s5_i2v.items():\n",
    "    for k in v['general'].keys():\n",
    "        print(k)\n",
    "    break"
   ]
  },
  {
   "cell_type": "code",
   "execution_count": null,
   "metadata": {},
   "outputs": [],
   "source": [
    "options = list()\n",
    "for fname in tqdm(list(map(str, (root/\"getchu_s5\").glob(\"*\")))):\n",
    "    dname = fname.replace(\"getchu_s5\", \"getchu_s5_2x\")\n",
    "    option = \" \".join(th_option(fname, dname))\n",
    "    options.append(option)\n",
    "split_dump(options, \"option_getchu_s5_2x\")"
   ]
  }
 ],
 "metadata": {
  "kernelspec": {
   "display_name": "ada",
   "language": "python",
   "name": "ada"
  },
  "language_info": {
   "codemirror_mode": {
    "name": "ipython",
    "version": 3
   },
   "file_extension": ".py",
   "mimetype": "text/x-python",
   "name": "python",
   "nbconvert_exporter": "python",
   "pygments_lexer": "ipython3",
   "version": "3.7.10"
  }
 },
 "nbformat": 4,
 "nbformat_minor": 4
}

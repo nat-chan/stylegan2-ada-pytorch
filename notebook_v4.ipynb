{
 "cells": [
  {
   "cell_type": "code",
   "execution_count": null,
   "metadata": {},
   "outputs": [],
   "source": [
    "from importlib import reload\n",
    "import ipynb.fs.full.notebook_viewer\n",
    "reload(ipynb.fs.full.notebook_viewer)\n",
    "from ipynb.fs.full.notebook_viewer import Viewer, Manager, root, fname2id, id2fname, split_dump, Filter, prepare, tqdm_load\n",
    "import pickle\n",
    "from dotdict import dotdict\n",
    "from functools import reduce\n",
    "\n",
    "from typing import *\n",
    "from random import Random\n",
    "from pathlib import Path\n",
    "import json\n",
    "from collections import defaultdict\n",
    "from vivid.utils import timer\n",
    "from tqdm import tqdm\n",
    "from functools import lru_cache\n",
    "import numpy as np\n",
    "from PIL import Image\n",
    "import imagesize"
   ]
  },
  {
   "cell_type": "code",
   "execution_count": null,
   "metadata": {},
   "outputs": [],
   "source": [
    "readable_ori =  set((root/\"danbooru2020/dump_readable_ori/0\").read_text().strip().split())\n",
    "missing2x = {\"4005075\",\"685111\",\"3554125\",\"3004206\",\"1783239\",\"528288\",\"1717363\",\"4268380\",\"750472\",\"1106509\",\"2072514\",\"2072517\",\"3185545\",\"4039613\",\"3051636\",\"4089762\",\"800782\",\"2515799\",\"1195810\",\"4260855\"}\n",
    "missingsolov2 = {'1084454','2334893','2829693','2832773','2945896','3608576','3657998','3701002','3822349','4054580'}\n",
    "\n",
    "fire_eggs = dict()\n",
    "for k in \"duplicates is_deleted no_humans not-image photo text_only_page\".split():\n",
    "    fire_eggs[k] = set((root/f\"danbooru2020/Danbooru2019/reduce/{k}.txt\").read_text().strip().split())\n",
    "    \n",
    "ge512 =  set((root/\"danbooru2020/ge512.ids\").read_text().strip().split())\n",
    "ge1024 =  set((root/\"danbooru2020/ge1024.ids\").read_text().strip().split())\n",
    "\n",
    "i = 2\n",
    "if not \"ids\" in globals():\n",
    "    with timer(prefix=\"read_id_pkl\"): # 311[s]\n",
    "        ids = tqdm_load(root/f\"danbooru2020/{i}_id.pkl\")\n",
    "if not \"tags\" in globals():\n",
    "    with timer(prefix=\"read_tag_pkl\"): # 58[s]\n",
    "        tags = tqdm_load(root/f\"danbooru2020/{i}_tag.pkl\")"
   ]
  },
  {
   "cell_type": "code",
   "execution_count": null,
   "metadata": {},
   "outputs": [],
   "source": [
    "@lru_cache(maxsize=None)\n",
    "def t(s):\n",
    "    if \"|\" in s:\n",
    "        retval = reduce(set.__or__, map(tags.get, s.split(\"|\")))\n",
    "    else:\n",
    "        retval = reduce(set.__and__, map(tags.get, s.split(\"&\")))\n",
    "    return retval\n",
    "\n",
    "@lru_cache(maxsize=None)\n",
    "def load_json(fname):\n",
    "    fname = str(fname)\n",
    "    retval = dotdict({k.replace(\"detection_\", \"\").replace(\"bbox_\", \"\").replace(\"class_\", \"\"): np.array(v) for k, v in json.loads(Path(fname).read_text()).items()})\n",
    "    retval[\"fname\"] = fname\n",
    "    retval[\"id\"] = fname2id(fname)\n",
    "    return retval\n",
    "\n",
    "@lru_cache(maxsize=None)\n",
    "def load_pkl(fname):\n",
    "    fname = str(fname)\n",
    "    with open(fname, \"rb\") as f:\n",
    "        retval = dotdict(pickle.load(f))\n",
    "    return retval\n",
    "\n",
    "@lru_cache(maxsize=None)\n",
    "def load_arr(fname):\n",
    "    img = Image.open(fname)\n",
    "    arr = np.array(img)\n",
    "    return arr"
   ]
  },
  {
   "cell_type": "code",
   "execution_count": null,
   "metadata": {},
   "outputs": [],
   "source": [
    "def id2original(_id):\n",
    "    return id2fname(_id, prefix=\"original\", ext=lambda _id: ids[_id][\"file_ext\"])\n",
    "\n",
    "def id2original2x(_id):\n",
    "    if _id in tags[\"highres\"]:\n",
    "        return id2original(_id)\n",
    "    return id2fname(_id, prefix=\"original2x\", ext=lambda _: \"png\")\n",
    "\n",
    "def id2original2xwhite(_id):\n",
    "    if _id in tags[\"highres\"]:\n",
    "        return id2fname(_id, prefix=\"originalwhite\", ext=lambda _: \"png\")\n",
    "    return id2fname(_id, prefix=\"original2xwhite\", ext=lambda _: \"png\")\n",
    "\n",
    "def id2whitewaist(_id):\n",
    "    return id2fname(_id, prefix=\"whitewaist\")\n",
    "\n",
    "def id2json(_id):\n",
    "    return id2fname(_id, prefix=\"solo_json\", bucket=lambda _: \".\", ext=lambda _: \"json\")\n",
    "\n",
    "def id2pkl(_id):\n",
    "    return id2fname(_id, prefix=\"yaas/solov2out\", ext=lambda _: \"pkl\")\n",
    "\n",
    "def id2score(_id):\n",
    "    return int(ids[_id][\"score\"])\n",
    "\n",
    "def grouping(fnames, load=load_json, f=lambda x: np.where(x.label == 1)[0]):\n",
    "    r = dotdict()\n",
    "    r.fnames = tuple(map(str, fnames))\n",
    "    r.zero = set()\n",
    "    r.one = set()\n",
    "    r.multi = set()\n",
    "    pbar =  tqdm(r.fnames)\n",
    "    for i, fname in enumerate(pbar):\n",
    "        _id = fname2id(fname)\n",
    "        x = load(fname)\n",
    "        r[_id] = x\n",
    "        fx = f(x)\n",
    "        if len(fx) == 0:\n",
    "            r.zero.add(_id)\n",
    "        elif len(fx) == 1:\n",
    "            r.one.add(_id)\n",
    "        else:\n",
    "            r.multi.add(_id)\n",
    "        if i+1 == len(r.fnames):\n",
    "            pbar.set_description(str(len(r.one)/(i+1)*100)[:2]+\"%\")\n",
    "    return r\n",
    "\n",
    "def scoring(keys, f=id2score):\n",
    "    cnt = defaultdict(set)\n",
    "    for _id in keys:\n",
    "        cnt[f(_id)].add(_id)\n",
    "    cnt = list(map(list, cnt.items()))\n",
    "    cnt.sort()\n",
    "    for i in reversed(range(len(cnt)-1)):\n",
    "        cnt[i][1] |= cnt[i+1][1]\n",
    "    for i, (score, arr) in enumerate(cnt):\n",
    "        print(score, len(arr))\n",
    "        if i == 10: break\n",
    "    cnt = dict(cnt)\n",
    "    return cnt\n",
    "\n",
    "def created_at(keys):\n",
    "    return scoring(keys, f=lambda _id: int(ids[_id]['created_at'].split(\"-\")[0]))"
   ]
  },
  {
   "cell_type": "code",
   "execution_count": null,
   "metadata": {},
   "outputs": [],
   "source": [
    "solo = t(\"1girl|solo|1boy\")-t(\"1girl&1boy\")-t(\"2boys|2girls|3boys|3girls|4boys|4girls|5boys|5girls|6+boys|6+girls|multiple_boys|multiple_girls|multiple_views|variations\")\n",
    "exc0 = t('|'.join([\n",
    "    \"no_humans|arachne|pokemon_(creature)|octoling|monster_girl|isabelle_(animal_crossing)|animal_nose|animal_hug\",\n",
    "    \"robot|cyborg|mecha_musume|machinery|doll_joints|crewmate_(among_us)|kamen_rider_faiz|olimar\",\n",
    "    \"red_skin|blue_skin|purple_skin|wrinkled_skin|green_skin|two-tone_skin\",\n",
    "    \"monochrome|lineart|text_only_page|photo-referenced|3d|unconventional_media|comic\",\n",
    "    \"photo_(medium)|reference_photo_inset|reference_photo|photorealistic\",\n",
    "    \"full_armor|weapon|chibi|cannon|mask|eyepatch\",\n",
    "]))"
   ]
  },
  {
   "cell_type": "code",
   "execution_count": null,
   "metadata": {},
   "outputs": [],
   "source": [
    "fl = Filter()\n",
    "fl[\"solo\"]         = solo&readable_ori - missing2x - missingsolov2\n",
    "fl[\"exc0\"]         = fl[-1]-exc0\n",
    "fl[\"standing\"]     = fl[-1]&tags[\"standing\"]\n",
    "fl[\"ge512\"]        = fl[-1]&ge512\n",
    "face     = grouping(map(id2json, fl[\"ge512\"]), load=load_json, f=lambda x: np.where(x.label == 1)[0])\n",
    "instance = grouping(map(id2pkl,  fl[\"ge512\"]), load=load_pkl,  f=lambda x: x.pred_classes)\n",
    "fl[\"faceinstance\"] = face.one&instance.one\n",
    "fl[\"censored\"]     = fl[-1]-tags[\"censored\"]\n",
    "fl[\"safe\"]         = {_id for _id in fl[\"censored\"] if ids[_id][\"rating\"] == \"s\"}\n",
    "fl[\"questionable\"] = {_id for _id in fl[\"censored\"] if ids[_id][\"rating\"] == \"q\"}\n",
    "fl[\"explicit\"]     = {_id for _id in fl[\"censored\"] if ids[_id][\"rating\"] == \"e\"}\n",
    "fl[\"full_body\"]    = fl[\"safe\"]&tags[\"full_body\"]"
   ]
  },
  {
   "cell_type": "code",
   "execution_count": null,
   "metadata": {},
   "outputs": [],
   "source": [
    "exc1 = t('|'.join([\n",
    "    \"zoom_layer\",\n",
    "    \"back|ass|from_behind|from_above|bent_over|standing_split|dutch_angle\",\n",
    "    \"car|bicycle|translation_request|mystery_skulls\",\n",
    "    \"fox_tail|otter_costume|sonic_the_hedgehog|sonic_the_hedgehog\",\n",
    "    \"floating_head|cyclops|fat|electric_guitar\",\n",
    "]))|reduce(set.__or__, fire_eggs.values())\n",
    "fl[\"out\"]          = fl[\"safe\"]-exc1"
   ]
  },
  {
   "cell_type": "code",
   "execution_count": null,
   "metadata": {},
   "outputs": [],
   "source": [
    "def th_option(fname, dname):\n",
    "    return f\"/home/natsuki/waifu2x/waifu2x.lua -m scale -i {fname} -o {dname}\".split()\n",
    "options = list()\n",
    "for _id in tqdm(list((fl[\"ge512\"]-tags[\"highres\"])|face.zero)):\n",
    "    option = \" \".join(th_option(_id, id2fname(id2original(_id), prefix=\"original2x\")))\n",
    "    options.append(option)\n",
    "split_dump(options, \"option_2x\")"
   ]
  },
  {
   "cell_type": "code",
   "execution_count": null,
   "metadata": {
    "tags": []
   },
   "outputs": [],
   "source": [
    "options_convert = list()\n",
    "options_mogrify = list()\n",
    "for i, _id in enumerate(tqdm(instance.one)):\n",
    "    srcname = id2original2xwhite(_id)\n",
    "    maskname  = id2fname(_id, prefix=\"yaas/solov2out\")\n",
    "    dstname = id2fname(_id, prefix=\"original2xwhitesolov2\")\n",
    "    options_convert.append( f\"-quality 100 {srcname} {maskname} -compose CopyOpacity -composite {dstname}\" )\n",
    "    options_mogrify.append( f\"-quality 100 -background white -flatten PNG24:{dstname}\")\n",
    "    mask = instance[_id].pred_masks[0]\n",
    "    H, W = mask.shape\n",
    "    arr = 255*np.ones((H, W, 4), dtype=\"uint8\")\n",
    "    arr[:,:,3] = 255*mask\n",
    "    img = Image.fromarray(arr)\n",
    "    img = Image.fromarray((255*mask).astype(\"uint8\")).convert(\"1\")\n",
    "    img.save(maskname)\n",
    "split_dump(options_convert, \"option_original2xwhitesolov2_convert\")\n",
    "split_dump(options_mogrify, \"option_original2xwhitesolov2_mogrify\")"
   ]
  },
  {
   "cell_type": "code",
   "execution_count": null,
   "metadata": {
    "tags": []
   },
   "outputs": [],
   "source": [
    "def convert_option(fname, dname, xc=0.5, yc=0.28, yw=0.235, size=512):\n",
    "    _id = fname2id(fname)\n",
    "    j = load_json(id2json(_id))\n",
    "    src = dotdict()\n",
    "    dst = dotdict()\n",
    "    src.X, src.Y = imagesize.get(fname)\n",
    "    i = np.where(j.label==1)[0][0]\n",
    "    src.Xmin = src.X*j.xmin[i]\n",
    "    src.Xmax = src.X*j.xmax[i]\n",
    "    src.Ymin = src.Y*j.ymin[i]\n",
    "    src.Ymax = src.Y*j.ymax[i]\n",
    "    src.Ywid = src.Ymax-src.Ymin\n",
    "    src.Xcen = (src.Xmax+src.Xmin)/2\n",
    "    src.Ycen = (src.Ymax+src.Ymin)/2\n",
    "    dst = dotdict()\n",
    "    dst.Xcen = size*xc\n",
    "    dst.Ycen = size*yc\n",
    "    dst.Ywid = size*yw\n",
    "    z = dst.Ywid/src.Ywid\n",
    "    option = [\n",
    "        \"-background\", \"white\",\n",
    "        \"-resize\", f\"{round(100*z)}%\",\n",
    "        \"-crop\", f\"{size}x{size}+{round(z*src.Xcen-dst.Xcen)}+{round(z*src.Ycen-dst.Ycen)}!\",\n",
    "        \"-flatten\", \"-strip\",\n",
    "        \"-quality\", \"100\",\n",
    "        f\"{fname}\", f\"PNG24:{dname}\",\n",
    "    ]\n",
    "    return option\n",
    "options = list()\n",
    "for _id in tqdm(fl[\"faceinstance\"]):\n",
    "    option = \" \".join(convert_option(id2fname(_id, prefix=\"original2xwhitesolov2\"), id2fname(_id, prefix=\"whitewaist\")))\n",
    "    options.append(option)\n",
    "split_dump(options, \"option_whitewaist\")"
   ]
  },
  {
   "cell_type": "code",
   "execution_count": null,
   "metadata": {},
   "outputs": [],
   "source": [
    "cl = defaultdict(dict)\n",
    "for fname in tqdm(list(map(id2whitewaist,  fl[\"out\"]))):\n",
    "    _id = fname2id(fname)\n",
    "    arr = load_arr(fname)\n",
    "    upper = arr[:256, :, :]\n",
    "    lower = arr[256:, :, :]\n",
    "    lm =     np.where(np.all(np.all(lower == 255, axis=2), axis=1))[0].min(initial=256)\n",
    "    lu = 256-np.where(np.all(np.all(upper == 255, axis=2), axis=1))[0].max(initial=0)\n",
    "    sp = (arr == 255).sum()\n",
    "    cl[\"lm\"][_id] = lm\n",
    "    cl[\"lu\"][_id] = lu\n",
    "    cl[\"sp\"][_id] = sp"
   ]
  },
  {
   "cell_type": "code",
   "execution_count": null,
   "metadata": {
    "jupyter": {
     "outputs_hidden": true
    },
    "tags": []
   },
   "outputs": [],
   "source": [
    "name = \"v4_sm\"\n",
    "if name in Manager.MANAGED:\n",
    "    del Manager.MANAGED[name]\n",
    "Manager(map(id2whitewaist,  fl[\"out\"]-Manager.allbag()), name=name, N=12*6-1, key = lambda _id: -cl[\"sp\"][_id])"
   ]
  },
  {
   "cell_type": "code",
   "execution_count": null,
   "metadata": {
    "jupyter": {
     "outputs_hidden": true
    },
    "tags": []
   },
   "outputs": [],
   "source": [
    "name = \"v4_lm\"\n",
    "if name in Manager.MANAGED:\n",
    "    del Manager.MANAGED[name]\n",
    "Manager(map(id2whitewaist,  fl[\"out\"]-Manager.allbag()), name=name, N=12*6-1, key = cl[\"lm\"].get)"
   ]
  },
  {
   "cell_type": "code",
   "execution_count": null,
   "metadata": {},
   "outputs": [],
   "source": [
    "name = \"v4_lm\"\n",
    "Manager.MANAGED[name].bag |= set(Manager.MANAGED[name].fnames[:(12*6-1)*50])"
   ]
  },
  {
   "cell_type": "code",
   "execution_count": null,
   "metadata": {
    "jupyter": {
     "outputs_hidden": true
    },
    "tags": []
   },
   "outputs": [],
   "source": [
    "name = \"v4_lu\"\n",
    "if name in Manager.MANAGED:\n",
    "    del Manager.MANAGED[name]\n",
    "Manager(map(id2whitewaist,  fl[\"out\"]-Manager.allbag()), name=name, N=12*6-1, key = cl[\"lu\"].get)"
   ]
  },
  {
   "cell_type": "code",
   "execution_count": null,
   "metadata": {
    "jupyter": {
     "outputs_hidden": true
    },
    "tags": []
   },
   "outputs": [],
   "source": [
    "name = \"v4_sp\"\n",
    "if name in Manager.MANAGED:\n",
    "    del Manager.MANAGED[name]\n",
    "Manager(map(id2whitewaist,  fl[\"out\"]-Manager.allbag()), name=name, N=12*6-1, key = cl[\"sp\"].get)"
   ]
  },
  {
   "cell_type": "code",
   "execution_count": null,
   "metadata": {},
   "outputs": [],
   "source": [
    "name = \"v4_sp\"\n",
    "Manager.MANAGED[name].bag |= set(Manager.MANAGED[name].fnames[:(12*6-1)*40])"
   ]
  },
  {
   "cell_type": "code",
   "execution_count": null,
   "metadata": {
    "jupyter": {
     "outputs_hidden": true
    },
    "tags": []
   },
   "outputs": [],
   "source": [
    "name = \"v4_score\"\n",
    "if name in Manager.MANAGED:\n",
    "    del Manager.MANAGED[name]\n",
    "Manager(map(id2whitewaist,  fl[\"out\"]-Manager.allbag()), name=name, N=12*6-1, key = id2score)"
   ]
  },
  {
   "cell_type": "code",
   "execution_count": null,
   "metadata": {
    "jupyter": {
     "outputs_hidden": true
    },
    "tags": []
   },
   "outputs": [],
   "source": [
    "Manager(map(id2whitewaist,  fl[\"out\"]), name=\"v4_all\", N=12*6-1)"
   ]
  },
  {
   "cell_type": "code",
   "execution_count": null,
   "metadata": {
    "jupyter": {
     "outputs_hidden": true
    },
    "tags": []
   },
   "outputs": [],
   "source": [
    "def f(_id):\n",
    "    x = load_pkl(id2pkl(_id))\n",
    "    return p[\"scores\"][0]\n",
    "Manager(map(id2whitewaist,  fl[\"out\"]), name=\"v4_instance\", N=12*6-1, key = f)"
   ]
  },
  {
   "cell_type": "code",
   "execution_count": null,
   "metadata": {
    "jupyter": {
     "outputs_hidden": true
    },
    "tags": []
   },
   "outputs": [],
   "source": [
    "def f(_id):\n",
    "    x = load_json(id2json(_id))\n",
    "    i = np.where(x.label == 1)[0]\n",
    "    return x.score[i]\n",
    "Manager(map(id2whitewaist,  fl[\"out\"]), name=\"v4_face\", N=12*6-1, key = f)"
   ]
  },
  {
   "cell_type": "code",
   "execution_count": null,
   "metadata": {},
   "outputs": [],
   "source": [
    "fl[\"checked\"] = fl[\"out\"]-Manager.allbag()"
   ]
  },
  {
   "cell_type": "code",
   "execution_count": null,
   "metadata": {
    "tags": []
   },
   "outputs": [],
   "source": [
    "score = scoring(fl[\"checked\"])\n",
    "fl[\"score\"] = score[1]"
   ]
  },
  {
   "cell_type": "code",
   "execution_count": null,
   "metadata": {},
   "outputs": [],
   "source": [
    "flscore = list(fl[\"score\"])\n",
    "Random(0).shuffle(flscore)\n",
    "options_train = list()\n",
    "options_val = list()\n",
    "for i, _id in enumerate(flscore):\n",
    "    fname = id2fname(_id, prefix=\"whitewaist\")\n",
    "    if i < 80000:\n",
    "        dname = id2fname(_id, prefix=\"v4\")\n",
    "        options_train.append(f\"{fname}\\t{dname}\")\n",
    "    else:\n",
    "        dname = id2fname(_id, prefix=\"v4_val\")\n",
    "        options_val.append(f\"{fname}\\t{dname}\")\n",
    "split_dump(options_train, \"option_v4\")\n",
    "split_dump(options_train, \"option_v4_val\")\n",
    "prepare(\"v4\")\n",
    "prepare(\"v4_val\")"
   ]
  }
 ],
 "metadata": {
  "interpreter": {
   "hash": "730f8ff9a17c09ad64fdbb8ff3c0b9ab943a5e1a244f8e4b2870cc12d118e2d8"
  },
  "kernelspec": {
   "display_name": "Python 3",
   "language": "python",
   "name": "python3"
  },
  "language_info": {
   "codemirror_mode": {
    "name": "ipython",
    "version": 3
   },
   "file_extension": ".py",
   "mimetype": "text/x-python",
   "name": "python",
   "nbconvert_exporter": "python",
   "pygments_lexer": "ipython3",
   "version": "3.7.10"
  }
 },
 "nbformat": 4,
 "nbformat_minor": 4
}

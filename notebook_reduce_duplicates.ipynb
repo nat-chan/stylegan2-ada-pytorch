{
 "cells": [
  {
   "cell_type": "code",
   "execution_count": null,
   "metadata": {},
   "outputs": [],
   "source": [
    "from importlib import reload\n",
    "import ipynb.fs.full.notebook_viewer\n",
    "reload(ipynb.fs.full.notebook_viewer)\n",
    "from ipynb.fs.full.notebook_viewer import Viewer, Manager, root, fname2id, id2fname, split_dump, search_dump, Filter, prepare, tqdm_load, id2, load_wimage\n",
    "import pickle\n",
    "from pickle import Unpickler\n",
    "from pprint import pprint\n",
    "from dotdict import dotdict\n",
    "from functools import reduce\n",
    "\n",
    "from typing import *\n",
    "import matplotlib.pyplot as plt\n",
    "import random\n",
    "import PIL\n",
    "from pathlib import Path\n",
    "import json\n",
    "from collections import defaultdict\n",
    "import subprocess\n",
    "from subprocess import PIPE\n",
    "from tqdm.notebook import tqdm\n",
    "from time import time\n",
    "from functools import lru_cache\n",
    "import numpy as np\n",
    "from PIL import Image, ImageDraw\n",
    "import imagesize\n",
    "from math import atan2, degrees"
   ]
  },
  {
   "cell_type": "code",
   "execution_count": null,
   "metadata": {},
   "outputs": [],
   "source": [
    "face_one = set((root/\"danbooru2020/dump_face_one/0\").read_text().strip().split())\n",
    "instance_one = set((root/\"danbooru2020/dump_instance_one/0\").read_text().strip().split())"
   ]
  },
  {
   "cell_type": "code",
   "execution_count": null,
   "metadata": {},
   "outputs": [],
   "source": [
    "fl = dict()\n",
    "fl[\"faceinstance\"] = (face_one & instance_one) - {'3634238','3634244'}"
   ]
  },
  {
   "cell_type": "code",
   "execution_count": null,
   "metadata": {},
   "outputs": [],
   "source": [
    "samesize = defaultdict(list)\n",
    "for _id in tqdm(fl[\"faceinstance\"]):\n",
    "    fname = id2.originalwhite(_id)\n",
    "     m = tuple(map(int, map(ids[_id].get, ['image_width', 'image_height'])))\n",
    "#    b = imagesize.get(fname)\n",
    "#    assert a == b\n",
    "    samesize[ m].append(_id)"
   ]
  },
  {
   "cell_type": "code",
   "execution_count": null,
   "metadata": {},
   "outputs": [],
   "source": [
    "split_dump([\"\\t\".join(v) for v in samesize.values()        len(v) > 10 ], \"samesize\"  , N= 1)\n",
    "split_dump([\"\\t\".join(v) for v in samesize.values() if 1 < len(v) <= 10], \"samesize10\", N=-1)"
   ]
  },
  {
   "cell_type": "code",
   "execution_count": null,
   "metadata": {},
   "outputs": [],
   "source": [
    "results = list((root/\"danbooru2020/samesize\").glob(\"*\"))"
   ]
  },
  {
   "cell_type": "code",
   "execution_count": null,
   "metadata": {},
   "outputs": [],
   "source": [
    "THR = 40\n",
    "ok = list()\n",
    "for i, fname in enumerate(tqdm(results)):\n",
    "    with fname.open(\"r\") as f:\n",
    "        for line in f:\n",
    "            m, f1name, f2name = line.strip().split()\n",
    "            m = float(m)\n",
    "            if THR < m:\n",
    "                break\n",
    "            else:\n",
    "                ok.append((m, f1name, f2name))\n",
    "ok.sort()"
   ]
  },
  {
   "cell_type": "code",
   "execution_count": null,
   "metadata": {
    "tags": []
   },
   "outputs": [],
   "source": [
    "def append_option(arr):\n",
    "    m, f1name, f2name = arr\n",
    "    _id = f\"{fname2id(f1name)}_{fname2id(f2name)}\"\n",
    "    dname = id2fname(_id, prefix=\"issame\", bucket=lambda _:\".\")\n",
    "    return f\"+append {f1name} {f2name} {dname}\"\n",
    "(root/\"danbooru2020/issame\").mkdir(exist_ok=True)"
   ]
  },
  {
   "cell_type": "code",
   "execution_count": null,
   "metadata": {},
   "outputs": [],
   "source": [
    "split_dump(list(map(append_option, [a for a in ok if  m[0] < 30])), \"option_issame\")"
   ]
  },
  {
   "cell_type": "code",
   "execution_count": null,
   "metadata": {},
   "outputs": [],
   "source": [
    "len([\"\\t\".join(v) for v in samesize.values() if 1 < len(v)])"
   ]
  },
  {
   "cell_type": "code",
   "execution_count": null,
   "metadata": {},
   "outputs": [],
   "source": [
    "search_dump(\"3096978\", \"samesize\") # 10\n",
    "search_dump(\"4010812\", \"samesize\") # 35"
   ]
  },
  {
   "cell_type": "code",
   "execution_count": null,
   "metadata": {},
   "outputs": [],
   "source": [
    "from itertools import combinations\n",
    "split_dump(\n",
    "    [\"\\t\".join(c) for c in combinations((root/\"danbooru2020/dump_samesize/10\").read_text().strip().split(), 2)] + \n",
    "    [\"\\t\".join(c) for c in combinations((root/\"danbooru2020/dump_samesize/35\").read_text().strip().split(), 2)]\n",
    ",\"samesize100\")"
   ]
  },
  {
   "cell_type": "code",
   "execution_count": null,
   "metadata": {
    "tags": []
   },
   "outputs": [],
   "source": [
    "split_dump([f\"-resize 512x512 -background white -gravity center -extent 512x512 {fname}\" for fname in fnames], \"samesize_resize\")"
   ]
  },
  {
   "cell_type": "code",
   "execution_count": null,
   "metadata": {},
   "outputs": [],
   "source": [
    "fnames = [id2fname(f\"{fname2id(f1)}_{fname2id(f2)}\", prefix=\"issame\", bucket=lambda _:\".\") for m,f1,f2 in ok if m < 30]"
   ]
  },
  {
   "cell_type": "code",
   "execution_count": null,
   "metadata": {},
   "outputs": [],
   "source": [
    "for i, fname in enumerate(tqdm(fnames)):\n",
    "    _ = load_wimage(fname)"
   ]
  },
  {
   "cell_type": "code",
   "execution_count": null,
   "metadata": {},
   "outputs": [],
   "source": [
    "reduce_duplicates = Viewer(fnames, key = \"nosort\", name =\"reduce_duplicates\", N=12*6-1)\n",
    "reduce_duplicates"
   ]
  },
  {
   "cell_type": "code",
   "execution_count": null,
   "metadata": {},
   "outputs": [],
   "source": [
    "reduce_duplicates.bag |= set(reduce_duplicates.fnames[:(12*6-1)*150])"
   ]
  }
 ],
 "metadata": {
  "kernelspec": {
   "display_name": "ada",
   "language": "python",
   "name": "ada"
  },
  "language_info": {
   "codemirror_mode": {
    "name": "ipython",
    "version": 3
   },
   "file_extension": ".py",
   "mimetype": "text/x-python",
   "name": "python",
   "nbconvert_exporter": "python",
   "pygments_lexer": "ipython3",
   "version": "3.7.10"
  }
 },
 "nbformat": 4,
 "nbformat_minor": 4
}

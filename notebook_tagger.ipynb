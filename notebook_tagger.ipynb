{
 "cells": [
  {
   "cell_type": "code",
   "execution_count": null,
   "metadata": {},
   "outputs": [],
   "source": [
    "from script_util import root, fname2id, id2fname, tqdm_load, rcParams\n",
    "from functools import reduce\n",
    "import json\n",
    "from collections import defaultdict\n",
    "from tqdm.notebook import tqdm\n",
    "from plot_metric.functions import BinaryClassification\n",
    "import matplotlib.pyplot as plt\n",
    "from collections import defaultdict\n",
    "from sklearn.metrics import roc_auc_score\n",
    "\n",
    "plt.rcParams.update(rcParams)"
   ]
  },
  {
   "cell_type": "code",
   "execution_count": null,
   "metadata": {},
   "outputs": [],
   "source": [
    "i = 2\n",
    "if not \"ids\" in globals():\n",
    "    ids = tqdm_load(root/f\"danbooru2020/{i}_id.pkl\")\n",
    "if not \"tags\" in globals():\n",
    "    tags = tqdm_load(root/f\"danbooru2020/{i}_tag.pkl\")"
   ]
  },
  {
   "cell_type": "code",
   "execution_count": null,
   "metadata": {},
   "outputs": [],
   "source": [
    "targets = list(map(fname2id, (root/\"danbooru2020/v4\").glob(\"**/*.png\")))"
   ]
  },
  {
   "cell_type": "code",
   "execution_count": null,
   "metadata": {},
   "outputs": [],
   "source": [
    "def load_ans(name, targets=targets):\n",
    "    bizarre_ans = defaultdict(list)\n",
    "    for _id in tqdm(targets):\n",
    "        fname = id2fname(_id, prefix=f\"v4_tagger_{name}\", ext=\"json\")\n",
    "        with open(fname, \"r\") as f:\n",
    "            data = json.load(f)\n",
    "        for k, v in data.items():\n",
    "            bizarre_ans[k.replace(\" \", \"_\")].append(v)\n",
    "    return bizarre_ans\n",
    "i2v_ans = load_ans(\"i2v\")\n",
    "bizarre_ans = load_ans(\"bizarre\")"
   ]
  },
  {
   "cell_type": "code",
   "execution_count": null,
   "metadata": {},
   "outputs": [],
   "source": [
    "assert all(len(a) == 80000 for a in bizarre_ans.values()) and all(len(a) == 80000 for a in i2v_ans.values())"
   ]
  },
  {
   "cell_type": "code",
   "execution_count": null,
   "metadata": {
    "tags": []
   },
   "outputs": [],
   "source": [
    "pkeys = bizarre_ans.keys() & tags.keys() & i2v_ans.keys()\n",
    "print(len(pkeys))\n",
    "print(len(bizarre_ans.keys() & tags.keys()))\n",
    "print(len(bizarre_ans.keys()))"
   ]
  },
  {
   "cell_type": "code",
   "execution_count": null,
   "metadata": {
    "tags": []
   },
   "outputs": [],
   "source": [
    "def met(ans=i2v_ans, query=\"school_uniform\"):\n",
    "    y_test = [_id in tags[query] for _id in targets]\n",
    "    y_pred = ans[query]\n",
    "    return roc_auc_score(y_test, y_pred)\n",
    "met(bizarre_ans)"
   ]
  },
  {
   "cell_type": "code",
   "execution_count": null,
   "metadata": {},
   "outputs": [],
   "source": [
    "# Only one class present in y_true. ROC AUC score is not defined in that case.\n",
    "win, lose = 0, 0\n",
    "for query in pkeys:\n",
    "    if met(bizarre_ans, query=query) < met(i2v_ans, query=query):\n",
    "        win += 1\n",
    "    else:\n",
    "        lose += 1\n",
    "print(100*win/(win+lose))"
   ]
  },
  {
   "cell_type": "code",
   "execution_count": null,
   "metadata": {},
   "outputs": [],
   "source": [
    "query = \"school_uniform\"\n",
    "y_test = [_id in tags[query] for _id in targets]\n",
    "plt.figure(figsize=(5,5))\n",
    "bc = BinaryClassification(y_test, i2v_ans[query], labels=[\"Class 1\", \"Class 2\"])\n",
    "bc.plot_roc_curve(title=\"Receiver Operating Characteristic \", plot_threshold=False,  c_roc_curve='blue')\n",
    "bc = BinaryClassification(y_test, bizarre_ans[query], labels=[\"Class 1\", \"Class 2\"])\n",
    "bc.plot_roc_curve(title=\"Receiver Operating Characteristic \", plot_threshold=False,  c_roc_curve='green')\n",
    "plt.show()"
   ]
  },
  {
   "cell_type": "code",
   "execution_count": null,
   "metadata": {
    "tags": []
   },
   "outputs": [],
   "source": [
    "y_all = reduce(list.__add__, [[_id in tags[query] for _id in targets] for query in pkeys])\n",
    "i2v_all = reduce(list.__add__, [i2v_ans[query] for query in pkeys])\n",
    "bizarre_all = reduce(list.__add__, [bizarre_ans[query] for query in pkeys])"
   ]
  },
  {
   "cell_type": "code",
   "execution_count": null,
   "metadata": {
    "tags": []
   },
   "outputs": [],
   "source": [
    "plt.figure(figsize=(5,5))\n",
    "bc = BinaryClassification(y_all, i2v_all, labels=[\"Class 1\", \"Class 2\"])\n",
    "bc.plot_roc_curve(title=\"Receiver Operating Characteristic \", plot_threshold=False,  c_roc_curve='blue')\n",
    "bc = BinaryClassification(y_all, bizarre_all, labels=[\"Class 1\", \"Class 2\"])\n",
    "bc.plot_roc_curve(title=\"Receiver Operating Characteristic \", plot_threshold=False,  c_roc_curve='green')\n",
    "plt.show()"
   ]
  }
 ],
 "metadata": {
  "interpreter": {
   "hash": "93908de20a6c520c67f7bfb8c544721ea1883c17bbecd61a6d61de1167f09900"
  },
  "kernelspec": {
   "display_name": "ada",
   "language": "python",
   "name": "ada"
  },
  "language_info": {
   "codemirror_mode": {
    "name": "ipython",
    "version": 3
   },
   "file_extension": ".py",
   "mimetype": "text/x-python",
   "name": "python",
   "nbconvert_exporter": "python",
   "pygments_lexer": "ipython3",
   "version": "3.8.10"
  }
 },
 "nbformat": 4,
 "nbformat_minor": 4
}

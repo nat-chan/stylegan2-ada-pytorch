{
 "cells": [
  {
   "cell_type": "code",
   "execution_count": null,
   "id": "2f6b6f8e-17f2-47b8-a13f-60d89064ff9c",
   "metadata": {},
   "outputs": [],
   "source": [
    "import os\n",
    "os.environ[\"CUDA_VISIBLE_DEVICES\"] = \"6\"\n",
    "device = \"cuda\"\n",
    "import pickle\n",
    "import torch\n",
    "import numpy as np\n",
    "from PIL import Image\n",
    "from PIL import ImageDraw\n",
    "from PIL import ImageFont\n",
    "from pathlib import Path\n",
    "from tqdm.notebook import tqdm\n",
    "from sklearn.cluster import KMeans\n",
    "from tqdm import tqdm\n",
    "from IPython.display import display, clear_output\n",
    "from subprocess import check_output\n",
    "import matplotlib.pyplot as plt\n",
    "import imageio"
   ]
  },
  {
   "cell_type": "code",
   "execution_count": null,
   "id": "f7c39744-7732-4045-aaba-71ca18a78b18",
   "metadata": {},
   "outputs": [],
   "source": [
    "cfg = \"00023-white_yc05_yw04-mirror-auto4-gamma10-noaug/network-snapshot-021800.pkl\"\n",
    "#cfg = \"00030-v4-mirror-auto4-gamma100-batch64-noaug-resumecustom/network-snapshot-011289.pkl\"\n",
    "fm = Path(f\"/data/natsuki/training116/{cfg}\")\n",
    "assert fm.is_file()\n",
    "with open(fm, 'rb') as f:\n",
    "    G = pickle.load(f)['G_ema'].to(device)\n",
    "def mapping(seed=1, psi=1):\n",
    "    label = torch.zeros([1, G.c_dim], device=device)\n",
    "    z = torch.from_numpy(np.random.RandomState(seed).randn(1, G.z_dim)).to(device)\n",
    "    w = G.mapping(z, label, truncation_psi=psi)\n",
    "    return w\n",
    "def synthesis(w, synth=True, retarr=False):\n",
    "    if synth:\n",
    "        synth_image = G.synthesis(w, noise_mode='const')\n",
    "    else:\n",
    "        synth_image = w\n",
    "    synth_image = (synth_image + 1) * (255/2)\n",
    "    synth_image = synth_image.permute(0, 2, 3, 1).clamp(0, 255).to(torch.uint8)[0].cpu().numpy()\n",
    "    img = Image.fromarray(synth_image, 'RGB')\n",
    "    if retarr:\n",
    "        return img, synth_image\n",
    "    else:\n",
    "        return img"
   ]
  },
  {
   "cell_type": "code",
   "execution_count": null,
   "id": "fe44ca2d-c71e-4f84-9152-2b81a9696ea3",
   "metadata": {},
   "outputs": [],
   "source": [
    "seeds = [\n",
    "    int(p.split(\"_\")[1])\n",
    "    for p in sorted([p.stem for p in Path(f\"/data/natsuki/fact_hatsune_miku_{cfg.split('/')[0]}\").glob(\"*.png\")], reverse=True)\n",
    "][:32*100]"
   ]
  },
  {
   "cell_type": "code",
   "execution_count": null,
   "id": "febd987a-35b0-43f1-ad81-7495e609e25d",
   "metadata": {},
   "outputs": [],
   "source": [
    "batch = 32\n",
    "sample_num = len(seeds)\n",
    "label = torch.zeros([1, G.c_dim], device=device)\n",
    "assert sample_num % batch == 0\n",
    "ws = list()\n",
    "for j in tqdm(range(sample_num//batch)):\n",
    "    ws += list(G.mapping(torch.from_numpy(np.array([np.random.RandomState(seeds[batch*j+i]).randn(G.z_dim) for i in range(batch)])).to(device), label).cpu().numpy()[:,0,:])\n",
    "ws = np.array(ws)\n",
    "print(ws.shape)"
   ]
  },
  {
   "cell_type": "code",
   "execution_count": null,
   "id": "507dd884-42e8-4998-9239-c890b146f4e8",
   "metadata": {},
   "outputs": [],
   "source": [
    "W = 8; H = 8\n",
    "cluster_num = W*H\n",
    "km = KMeans(cluster_num, init=\"random\")\n",
    "km.fit(ws)\n",
    "print(km.cluster_centers_.shape)"
   ]
  },
  {
   "cell_type": "code",
   "execution_count": null,
   "id": "b343beec-c8e3-488b-b684-d95e61f6fcc7",
   "metadata": {},
   "outputs": [],
   "source": [
    "dst = Image.new(\"RGB\", (W*512, H*512))\n",
    "for h in range(H):\n",
    "    for w in range(W):\n",
    "        tmp = synthesis(torch.from_numpy(km.cluster_centers_[None,None,W*h+w]).repeat((1,16,1)).to(device))\n",
    "        font = ImageFont.truetype(\"/usr/share/fonts/opentype/ipafont-gothic/ipag.ttf\", 50)\n",
    "        ImageDraw.Draw(tmp).text((0,0), f\"{W*h+w}\", (0,0,0), font)\n",
    "        dst.paste(tmp, (512*w, 512*h))\n",
    "dst"
   ]
  },
  {
   "cell_type": "code",
   "execution_count": null,
   "id": "9b499941-9005-4854-8822-19e0e167cee3",
   "metadata": {},
   "outputs": [],
   "source": [
    "ckd = list(set(map(int, \"16 2 10 27 33 34 46 41 51 63\".split())))\n",
    "print(len(ckd), ckd)"
   ]
  },
  {
   "cell_type": "code",
   "execution_count": null,
   "id": "29e5e93e-ea5d-44c1-8495-6aca06e82cad",
   "metadata": {},
   "outputs": [],
   "source": [
    "X = np.linspace(0, 1)\n",
    "F = lambda X: np.tanh(5*(X-.5))*.5+.5\n",
    "Y = F(X)\n",
    "plt.plot(X, Y)"
   ]
  },
  {
   "cell_type": "code",
   "execution_count": null,
   "id": "4da66571-cc38-4b5d-bdf8-5cd022763f55",
   "metadata": {},
   "outputs": [],
   "source": [
    "def intp(ws, B=5):\n",
    "    arrs = list()\n",
    "    for i in range(len(ws)):\n",
    "        for j in range(B):\n",
    "            clear_output(wait=True)\n",
    "            p = F(j/B)\n",
    "            wm = (1-p)*ws[None,None,i] + (p)*ws[None,None,(i+1)%len(ws)]\n",
    "            tmp, arr = synthesis(torch.from_numpy(wm).repeat((1,16,1)).to(device), retarr=True)\n",
    "            arrs.append(arr)\n",
    "            display(tmp)\n",
    "    return arrs\n",
    "arrs = intp(km.cluster_centers_[ckd])"
   ]
  },
  {
   "cell_type": "code",
   "execution_count": null,
   "id": "623d0cf5-fe81-420f-a068-2b7d528a9c65",
   "metadata": {},
   "outputs": [],
   "source": [
    "dname = \"intp.gif\"\n",
    "imageio.mimsave(dname, arrs, fps=5)\n",
    "print(check_output(f\"du -sh {dname}\", shell=True).decode(), end=\"\")\n",
    "print(check_output(f\"mogrify -layers 'optimize' -fuzz 3% -loop 0 {dname}\", shell=True).decode(), end=\"\")\n",
    "print(check_output(f\"du -sh {dname}\", shell=True).decode(), end=\"\")"
   ]
  }
 ],
 "metadata": {
  "interpreter": {
   "hash": "93908de20a6c520c67f7bfb8c544721ea1883c17bbecd61a6d61de1167f09900"
  },
  "kernelspec": {
   "display_name": "ada",
   "language": "python",
   "name": "ada"
  },
  "language_info": {
   "codemirror_mode": {
    "name": "ipython",
    "version": 3
   },
   "file_extension": ".py",
   "mimetype": "text/x-python",
   "name": "python",
   "nbconvert_exporter": "python",
   "pygments_lexer": "ipython3",
   "version": "3.8.10"
  }
 },
 "nbformat": 4,
 "nbformat_minor": 5
}
